{
  "nbformat": 4,
  "nbformat_minor": 0,
  "metadata": {
    "colab": {
      "name": "Basics.ipynb",
      "provenance": [],
      "collapsed_sections": [],
      "authorship_tag": "ABX9TyN9pft7GUi0RTEVk0yDDRwm",
      "include_colab_link": true
    },
    "kernelspec": {
      "name": "python3",
      "display_name": "Python 3"
    }
  },
  "cells": [
    {
      "cell_type": "markdown",
      "metadata": {
        "id": "view-in-github",
        "colab_type": "text"
      },
      "source": [
        "<a href=\"https://colab.research.google.com/github/kavish27/Python-Basics/blob/main/Basics.ipynb\" target=\"_parent\"><img src=\"https://colab.research.google.com/assets/colab-badge.svg\" alt=\"Open In Colab\"/></a>"
      ]
    },
    {
      "cell_type": "markdown",
      "metadata": {
        "id": "_xl-SeWxr0WX"
      },
      "source": [
        "**Swapping 2 Numbers**"
      ]
    },
    {
      "cell_type": "code",
      "metadata": {
        "id": "cOPQFvki5a_v"
      },
      "source": [
        "#using naive approach\n",
        "x=10\n",
        "y=20\n",
        "temp=x;\n",
        "x=y;\n",
        "y=temp;\n",
        "print(\"Value of X:\",x)\n",
        "print(\"Value of X:\",y)\n"
      ],
      "execution_count": null,
      "outputs": []
    },
    {
      "cell_type": "code",
      "metadata": {
        "id": "_qDYJqVcqHoa"
      },
      "source": [
        "#using arithmetic operations \n",
        "x=10\n",
        "y=50\n",
        "x=x+y\n",
        "y=x-y\n",
        "x=x-y\n",
        "print(\"value of x:\",x)\n",
        "print(\"value of y:\",y)"
      ],
      "execution_count": null,
      "outputs": []
    },
    {
      "cell_type": "code",
      "metadata": {
        "id": "ahV1uwPBsQFb"
      },
      "source": [
        "#using comma operator \n",
        "x=float(input(\"Enter X:\"))\n",
        "y=float(input(\"Enter Y:\"))\n",
        "\n",
        "x,y = y,x\n",
        "print(\"Value of X:\",x)\n",
        "print(\"Value of Y:\",y)\n",
        "\n"
      ],
      "execution_count": null,
      "outputs": []
    },
    {
      "cell_type": "code",
      "metadata": {
        "id": "lXDsGyGv6Ki2"
      },
      "source": [
        "x=200\n",
        "y=500\n",
        "x=x^y\n",
        "y=x^y\n",
        "x=x^y\n",
        "print(\"Value of X:\", x)\n",
        "print(\"Value of Y:\",y)\n"
      ],
      "execution_count": null,
      "outputs": []
    },
    {
      "cell_type": "markdown",
      "metadata": {
        "id": "866fxnrg0Qav"
      },
      "source": [
        "**Getting Input From User**"
      ]
    },
    {
      "cell_type": "code",
      "metadata": {
        "colab": {
          "base_uri": "https://localhost:8080/"
        },
        "id": "ZPGT8fy40Vil",
        "outputId": "ece55e83-9298-4d28-ef54-49499ea569ff"
      },
      "source": [
        "str=input(\"Enter String\")\n",
        "num=5.6\n",
        "num=int(num)\n",
        "print(num)\n",
        "print(str)\n",
        "\n"
      ],
      "execution_count": 9,
      "outputs": [
        {
          "output_type": "stream",
          "text": [
            "Enter StringKavish SHah\n",
            "5\n",
            "Kavish SHah\n"
          ],
          "name": "stdout"
        }
      ]
    }
  ]
}