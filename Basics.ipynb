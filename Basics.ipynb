{
  "nbformat": 4,
  "nbformat_minor": 0,
  "metadata": {
    "colab": {
      "name": "Basics.ipynb",
      "provenance": [],
      "collapsed_sections": [],
      "authorship_tag": "ABX9TyNe6ySLi49uAHQB0kZtTM8/",
      "include_colab_link": true
    },
    "kernelspec": {
      "name": "python3",
      "display_name": "Python 3"
    }
  },
  "cells": [
    {
      "cell_type": "markdown",
      "metadata": {
        "id": "view-in-github",
        "colab_type": "text"
      },
      "source": [
        "<a href=\"https://colab.research.google.com/github/kavish27/Python-Basics/blob/main/Basics.ipynb\" target=\"_parent\"><img src=\"https://colab.research.google.com/assets/colab-badge.svg\" alt=\"Open In Colab\"/></a>"
      ]
    },
    {
      "cell_type": "markdown",
      "metadata": {
        "id": "_xl-SeWxr0WX"
      },
      "source": [
        "**Swapping 2 Numbers**"
      ]
    },
    {
      "cell_type": "code",
      "metadata": {
        "id": "cOPQFvki5a_v"
      },
      "source": [
        "#using naive approach\n",
        "x=10\n",
        "y=20\n",
        "temp=x;\n",
        "x=y;\n",
        "y=temp;\n",
        "print(\"Value of X:\",x)\n",
        "print(\"Value of X:\",y)\n"
      ],
      "execution_count": null,
      "outputs": []
    },
    {
      "cell_type": "code",
      "metadata": {
        "id": "_qDYJqVcqHoa"
      },
      "source": [
        "#using arithmetic operations \n",
        "x=10\n",
        "y=50\n",
        "x=x+y\n",
        "y=x-y\n",
        "x=x-y\n",
        "print(\"value of x:\",x)\n",
        "print(\"value of y:\",y)"
      ],
      "execution_count": null,
      "outputs": []
    },
    {
      "cell_type": "code",
      "metadata": {
        "colab": {
          "base_uri": "https://localhost:8080/"
        },
        "id": "ahV1uwPBsQFb",
        "outputId": "016d0487-a618-4cd8-9d8c-409f86c6a20a"
      },
      "source": [
        "#using comma operator \n",
        "x=float(input(\"Enter X:\"))\n",
        "y=float(input(\"Enter Y:\"))\n",
        "\n",
        "x,y = y,x\n",
        "print(\"Value of X:\",x)\n",
        "print(\"Value of Y:\",y)\n",
        "\n"
      ],
      "execution_count": null,
      "outputs": [
        {
          "output_type": "stream",
          "text": [
            "Enter X:200\n",
            "Enter Y:500\n",
            "Value of X: 500.0\n",
            "Value of Y: 200.0\n"
          ],
          "name": "stdout"
        }
      ]
    },
    {
      "cell_type": "code",
      "metadata": {
        "colab": {
          "base_uri": "https://localhost:8080/"
        },
        "id": "lXDsGyGv6Ki2",
        "outputId": "4e37e242-1e4c-49f5-ff0f-1d74c99a8c7b"
      },
      "source": [
        "x=200\n",
        "y=500\n",
        "x=x^y\n",
        "y=x^y\n",
        "x=x^y\n",
        "print(\"Value of X:\", x)\n",
        "print(\"Value of Y:\",y)\n"
      ],
      "execution_count": null,
      "outputs": [
        {
          "output_type": "stream",
          "text": [
            "500\n",
            "200\n"
          ],
          "name": "stdout"
        }
      ]
    }
  ]
}