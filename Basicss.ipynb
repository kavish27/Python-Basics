{
  "nbformat": 4,
  "nbformat_minor": 0,
  "metadata": {
    "colab": {
      "name": "Basicss.ipynb",
      "provenance": [],
      "collapsed_sections": [],
      "authorship_tag": "ABX9TyOgvJudeYwx3tDa0okm+7J1",
      "include_colab_link": true
    },
    "kernelspec": {
      "name": "python3",
      "display_name": "Python 3"
    }
  },
  "cells": [
    {
      "cell_type": "markdown",
      "metadata": {
        "id": "view-in-github",
        "colab_type": "text"
      },
      "source": [
        "<a href=\"https://colab.research.google.com/github/kavish27/Python-Basics/blob/main/Basicss.ipynb\" target=\"_parent\"><img src=\"https://colab.research.google.com/assets/colab-badge.svg\" alt=\"Open In Colab\"/></a>"
      ]
    },
    {
      "cell_type": "markdown",
      "metadata": {
        "id": "uldtF-sOmzt6"
      },
      "source": [
        "**Python Variables**"
      ]
    },
    {
      "cell_type": "code",
      "metadata": {
        "id": "P5PN2JJtm8yk"
      },
      "source": [
        "x=5\n",
        "y=\"kavish\"\n",
        "print(x)\n",
        "print(y)\n",
        "#You can get the data type of a variable with the type() function.\n",
        "a=33.33\n",
        "b=\"shah\"\n",
        "print(type(x))\n",
        "print(type(y))\n",
        "#Variable names are case-sensitive.\n",
        "k=22\n",
        "K=333\n",
        "print(k,K)\n",
        "\n",
        "\n",
        "\n",
        "\n"
      ],
      "execution_count": null,
      "outputs": []
    },
    {
      "cell_type": "markdown",
      "metadata": {
        "id": "JefEeDlqn_Jl"
      },
      "source": [
        "**Variable Names**\n",
        "\n",
        "\n"
      ]
    },
    {
      "cell_type": "code",
      "metadata": {
        "id": "4uUm1Y7JoJ5K"
      },
      "source": [
        "#A variable name cannot start with a number\n",
        "#A variable name can only contain alpha-numeric characters and underscores (A-z, 0-9, and _ )\n",
        "\n",
        "#Each word, except the first, starts with a capital letter:Camel Case\n",
        "myCamelCase=22\n",
        "#Each word starts with a capital letter:PascalCase\n",
        "MyPascalCase=25\n",
        "#Each word is separated by an underscore character:SnakeCase\n",
        "my_snake_case=555\n",
        "print(myCamelCase)\n",
        "print(MyPascalCase)\n",
        "print(my_snake_case)\n"
      ],
      "execution_count": null,
      "outputs": []
    },
    {
      "cell_type": "markdown",
      "metadata": {
        "id": "kOdg7t2so7XT"
      },
      "source": [
        "**Assign Multiple Values**\n"
      ]
    },
    {
      "cell_type": "code",
      "metadata": {
        "colab": {
          "base_uri": "https://localhost:8080/"
        },
        "id": "MhEJY6vbpAVB",
        "outputId": "08a264a6-30d2-4949-e6f4-d85665b11deb"
      },
      "source": [
        "#Python allows you to assign values to multiple variables in one line:\n",
        "x,y,z=\"java\",\"c++\",\"python\"\n",
        "print(x,y,z)\n",
        "#One Value to Multiple Variables\n",
        "#And you can assign the same value to multiple variables in one line:\n",
        "a=b=c=\"SQL\"\n",
        "print(a,b,c)\n",
        "#Unpack a Collection\n",
        "#If you have a collection of values in a list, tuple etc. Python allows you extract the values into variables. This is called unpacking.\n",
        "languages=[\"Ruby\",\"JS\",\"HTML\"]\n",
        "a,b,c=languages\n",
        "print(a,b,c)\n",
        "\n"
      ],
      "execution_count": 8,
      "outputs": [
        {
          "output_type": "stream",
          "text": [
            "java c++ python\n",
            "SQL SQL SQL\n",
            "Ruby JS HTML\n"
          ],
          "name": "stdout"
        }
      ]
    }
  ]
}