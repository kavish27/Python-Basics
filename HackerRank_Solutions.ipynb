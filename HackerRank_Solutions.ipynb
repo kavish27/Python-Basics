{
  "nbformat": 4,
  "nbformat_minor": 0,
  "metadata": {
    "colab": {
      "name": "HackerRank Solutions.ipynb",
      "provenance": [],
      "collapsed_sections": [],
      "authorship_tag": "ABX9TyPESt9Rm4IDNjl2ul4VPcwl",
      "include_colab_link": true
    },
    "kernelspec": {
      "name": "python3",
      "display_name": "Python 3"
    }
  },
  "cells": [
    {
      "cell_type": "markdown",
      "metadata": {
        "id": "view-in-github",
        "colab_type": "text"
      },
      "source": [
        "<a href=\"https://colab.research.google.com/github/kavish27/Python-Basics/blob/main/HackerRank_Solutions.ipynb\" target=\"_parent\"><img src=\"https://colab.research.google.com/assets/colab-badge.svg\" alt=\"Open In Colab\"/></a>"
      ]
    },
    {
      "cell_type": "markdown",
      "metadata": {
        "id": "0sJwHX9r-EMM"
      },
      "source": [
        "**Python If-Else**"
      ]
    },
    {
      "cell_type": "code",
      "metadata": {
        "id": "5H5wficp0LbL"
      },
      "source": [
        "a=int(input())\r\n",
        "#print(a)\r\n",
        "if (a%2!=0):\r\n",
        "    print(\"Weird\")\r\n",
        "elif (a in range(2,6) and a%2==0):\r\n",
        "    print(\"Not Weird\")\r\n",
        "elif (a in range(6,21) and a%2==0):\r\n",
        "    print(\"Weird\")\r\n",
        "elif(a > 20 and a%2==0):\r\n",
        "    print(\"Not Weird\")\r\n",
        "\r\n",
        "  "
      ],
      "execution_count": null,
      "outputs": []
    },
    {
      "cell_type": "markdown",
      "metadata": {
        "id": "mWYZ0xw0qGRf"
      },
      "source": [
        "**Arithmetic Operators**"
      ]
    },
    {
      "cell_type": "code",
      "metadata": {
        "colab": {
          "base_uri": "https://localhost:8080/"
        },
        "id": "aa4VPZpwqL8p",
        "outputId": "23ec1fff-3b95-40fa-92e8-d615c23a2939"
      },
      "source": [
        "if __name__ == '__main__':\r\n",
        "    a = int(input())\r\n",
        "    b = int(input())\r\n",
        "    #sum=a+b\r\n",
        "    #sub=a-b\r\n",
        "    #mul=a*b\r\n",
        "    #print(sum)\r\n",
        "    #print(sub)\r\n",
        "    #print(mul)\r\n",
        "    print((a+b),(a-b),(a*b),sep=\"\\n\")\r\n"
      ],
      "execution_count": null,
      "outputs": [
        {
          "output_type": "stream",
          "text": [
            "99\n",
            "1\n",
            "100\n",
            "98\n",
            "99\n"
          ],
          "name": "stdout"
        }
      ]
    },
    {
      "cell_type": "markdown",
      "metadata": {
        "id": "tNF5gIjdp539"
      },
      "source": [
        "**Loops**"
      ]
    },
    {
      "cell_type": "code",
      "metadata": {
        "colab": {
          "base_uri": "https://localhost:8080/"
        },
        "id": "vgIHqih7p8tV",
        "outputId": "50469b16-a5cb-4580-aaed-9970b9816c85"
      },
      "source": [
        "if __name__ == '__main__':\r\n",
        "    n = int(input())\r\n",
        "    i=1\r\n",
        "    while i<=n:\r\n",
        "        print(i*i)\r\n",
        "        i=i+1"
      ],
      "execution_count": 1,
      "outputs": [
        {
          "output_type": "stream",
          "text": [
            "6\n",
            "1\n",
            "4\n",
            "9\n",
            "16\n",
            "25\n",
            "36\n"
          ],
          "name": "stdout"
        }
      ]
    }
  ]
}