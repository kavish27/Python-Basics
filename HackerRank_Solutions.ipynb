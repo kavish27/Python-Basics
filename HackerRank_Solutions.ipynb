{
  "nbformat": 4,
  "nbformat_minor": 0,
  "metadata": {
    "colab": {
      "name": "HackerRank Solutions.ipynb",
      "provenance": [],
      "authorship_tag": "ABX9TyNpJMcXfGljvg3NyQ1x684T",
      "include_colab_link": true
    },
    "kernelspec": {
      "name": "python3",
      "display_name": "Python 3"
    }
  },
  "cells": [
    {
      "cell_type": "markdown",
      "metadata": {
        "id": "view-in-github",
        "colab_type": "text"
      },
      "source": [
        "<a href=\"https://colab.research.google.com/github/kavish27/Python-Basics/blob/main/HackerRank_Solutions.ipynb\" target=\"_parent\"><img src=\"https://colab.research.google.com/assets/colab-badge.svg\" alt=\"Open In Colab\"/></a>"
      ]
    },
    {
      "cell_type": "markdown",
      "metadata": {
        "id": "0sJwHX9r-EMM"
      },
      "source": [
        "**Python If-Else**"
      ]
    },
    {
      "cell_type": "code",
      "metadata": {
        "colab": {
          "base_uri": "https://localhost:8080/"
        },
        "id": "5H5wficp0LbL",
        "outputId": "6364fbc7-299f-483b-bd6a-640627165412"
      },
      "source": [
        "a=int(input())\r\n",
        "#print(a)\r\n",
        "if (a%2!=0):\r\n",
        "    print(\"Weird\")\r\n",
        "elif (a in range(2,6) and a%2==0):\r\n",
        "    print(\"Not Weird\")\r\n",
        "elif (a in range(6,21) and a%2==0):\r\n",
        "    print(\"Weird\")\r\n",
        "elif(a > 20 and a%2==0):\r\n",
        "    print(\"Not Weird\")\r\n",
        "\r\n",
        "  "
      ],
      "execution_count": 15,
      "outputs": [
        {
          "output_type": "stream",
          "text": [
            "3\n",
            "Weird\n"
          ],
          "name": "stdout"
        }
      ]
    }
  ]
}