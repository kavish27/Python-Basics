{
  "nbformat": 4,
  "nbformat_minor": 0,
  "metadata": {
    "colab": {
      "name": "String Function.ipynb",
      "provenance": [],
      "authorship_tag": "ABX9TyO5qB0fzOF8qLX0HLnVEGMc",
      "include_colab_link": true
    },
    "kernelspec": {
      "name": "python3",
      "display_name": "Python 3"
    }
  },
  "cells": [
    {
      "cell_type": "markdown",
      "metadata": {
        "id": "view-in-github",
        "colab_type": "text"
      },
      "source": [
        "<a href=\"https://colab.research.google.com/github/kavish27/Python-Basics/blob/main/String_Function.ipynb\" target=\"_parent\"><img src=\"https://colab.research.google.com/assets/colab-badge.svg\" alt=\"Open In Colab\"/></a>"
      ]
    },
    {
      "cell_type": "markdown",
      "metadata": {
        "id": "35nh8Qczq0NE"
      },
      "source": [
        "**Strip() Method**\r\n",
        "```\r\n",
        "# We can remove extra characters,space,numbers from the left and right side of the string\r\n",
        "```\r\n",
        "\r\n"
      ]
    },
    {
      "cell_type": "code",
      "metadata": {
        "colab": {
          "base_uri": "https://localhost:8080/"
        },
        "id": "quO1KpXbqm--",
        "outputId": "e0704c25-d07e-46ae-f220-5db49f27552a"
      },
      "source": [
        "a=\"!!!!!!!!!!Hello World!!!!!!!!!!!!!!!\" \r\n",
        "print(a.strip('!'))\r\n",
        "left=\"!!!!!!!!!!!!Use of lstrip() which removes characters from left side@@@@@@@@@@@@\"\r\n",
        "print(left.lstrip('!'))\r\n",
        "right=\"!!!!!!!!!! Use of rstrip() which removes characters from right side@@@@@@@@@@@@\"\r\n",
        "print(right.rstrip(\"@\"))\r\n",
        "\r\n"
      ],
      "execution_count": 17,
      "outputs": [
        {
          "output_type": "stream",
          "text": [
            "Hello World\n",
            "Use of lstrip removes from left side@@@@@@@@@@@@\n",
            "!!!!!!!!!! Use of lstrip removes from left side\n"
          ],
          "name": "stdout"
        }
      ]
    }
  ]
}